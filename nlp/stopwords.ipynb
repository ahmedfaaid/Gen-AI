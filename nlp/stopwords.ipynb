{
 "cells": [
  {
   "cell_type": "markdown",
   "metadata": {},
   "source": [
    "# Stopwords"
   ]
  },
  {
   "cell_type": "code",
   "execution_count": 29,
   "metadata": {},
   "outputs": [],
   "source": [
    "paragraphs = \"\"\"At long last, the battle has ended!  And thus, Ghana, your beloved country is free forever! And yet again, I want to take the opportunity to thank the people of this country; the youth, the farmers, the women who have so nobly fought and won the battle. Also, I want to thank the valiant ex-service men who have so cooperated with me in this mighty task of freeing our country from foreign rule and imperialism. And, as I pointed out… from now on, today, we must change our attitudes and our minds.  We must realise that from now on we are no longer a colonial but free and independent people. But also, as I pointed out, that also entails hard work.  That new Africa is ready to fight his own battles and show that after all the black man is capable of managing his own affairs. We are going to demonstrate to the world, to the other nations, that we are prepared to lay our foundation – our own African personality. As I said to the Assembly a few minutes ago, I made a point that we are going to create our own Africa personality and identity.  It is the only way we can show the world that we are ready for our own battles. But today, may I call upon you all, that on this great day that let us all remember that nothing can be done unless it has the support of God. We have won the battle and again rededicate ourselves … OUR INDEPENDENCE IS MEANINGLESS UNLESS IT IS LINKED UP WITH THE TOTAL LIBERATION OF AFRICA. Let us now, fellow Ghanaians, let us now ask for God’s blessing for only two seconds, and in your thousands and millions. I want to ask you to pause for only one minute and give thanks to Almighty God for having led us through our difficulties, imprisonments, hardships and sufferings, to have brought us to our end of troubles today. One minute silence. Ghana is free forever!  And here I will ask the band to play the Ghana National Anthem.\"\"\""
   ]
  },
  {
   "cell_type": "code",
   "execution_count": 30,
   "metadata": {},
   "outputs": [],
   "source": [
    "from nltk.stem import PorterStemmer\n",
    "from nltk.corpus import stopwords"
   ]
  },
  {
   "cell_type": "code",
   "execution_count": 31,
   "metadata": {},
   "outputs": [
    {
     "data": {
      "text/plain": [
       "['a',\n",
       " 'about',\n",
       " 'above',\n",
       " 'after',\n",
       " 'again',\n",
       " 'against',\n",
       " 'ain',\n",
       " 'all',\n",
       " 'am',\n",
       " 'an',\n",
       " 'and',\n",
       " 'any',\n",
       " 'are',\n",
       " 'aren',\n",
       " \"aren't\",\n",
       " 'as',\n",
       " 'at',\n",
       " 'be',\n",
       " 'because',\n",
       " 'been',\n",
       " 'before',\n",
       " 'being',\n",
       " 'below',\n",
       " 'between',\n",
       " 'both',\n",
       " 'but',\n",
       " 'by',\n",
       " 'can',\n",
       " 'couldn',\n",
       " \"couldn't\",\n",
       " 'd',\n",
       " 'did',\n",
       " 'didn',\n",
       " \"didn't\",\n",
       " 'do',\n",
       " 'does',\n",
       " 'doesn',\n",
       " \"doesn't\",\n",
       " 'doing',\n",
       " 'don',\n",
       " \"don't\",\n",
       " 'down',\n",
       " 'during',\n",
       " 'each',\n",
       " 'few',\n",
       " 'for',\n",
       " 'from',\n",
       " 'further',\n",
       " 'had',\n",
       " 'hadn',\n",
       " \"hadn't\",\n",
       " 'has',\n",
       " 'hasn',\n",
       " \"hasn't\",\n",
       " 'have',\n",
       " 'haven',\n",
       " \"haven't\",\n",
       " 'having',\n",
       " 'he',\n",
       " \"he'd\",\n",
       " \"he'll\",\n",
       " 'her',\n",
       " 'here',\n",
       " 'hers',\n",
       " 'herself',\n",
       " \"he's\",\n",
       " 'him',\n",
       " 'himself',\n",
       " 'his',\n",
       " 'how',\n",
       " 'i',\n",
       " \"i'd\",\n",
       " 'if',\n",
       " \"i'll\",\n",
       " \"i'm\",\n",
       " 'in',\n",
       " 'into',\n",
       " 'is',\n",
       " 'isn',\n",
       " \"isn't\",\n",
       " 'it',\n",
       " \"it'd\",\n",
       " \"it'll\",\n",
       " \"it's\",\n",
       " 'its',\n",
       " 'itself',\n",
       " \"i've\",\n",
       " 'just',\n",
       " 'll',\n",
       " 'm',\n",
       " 'ma',\n",
       " 'me',\n",
       " 'mightn',\n",
       " \"mightn't\",\n",
       " 'more',\n",
       " 'most',\n",
       " 'mustn',\n",
       " \"mustn't\",\n",
       " 'my',\n",
       " 'myself',\n",
       " 'needn',\n",
       " \"needn't\",\n",
       " 'no',\n",
       " 'nor',\n",
       " 'not',\n",
       " 'now',\n",
       " 'o',\n",
       " 'of',\n",
       " 'off',\n",
       " 'on',\n",
       " 'once',\n",
       " 'only',\n",
       " 'or',\n",
       " 'other',\n",
       " 'our',\n",
       " 'ours',\n",
       " 'ourselves',\n",
       " 'out',\n",
       " 'over',\n",
       " 'own',\n",
       " 're',\n",
       " 's',\n",
       " 'same',\n",
       " 'shan',\n",
       " \"shan't\",\n",
       " 'she',\n",
       " \"she'd\",\n",
       " \"she'll\",\n",
       " \"she's\",\n",
       " 'should',\n",
       " 'shouldn',\n",
       " \"shouldn't\",\n",
       " \"should've\",\n",
       " 'so',\n",
       " 'some',\n",
       " 'such',\n",
       " 't',\n",
       " 'than',\n",
       " 'that',\n",
       " \"that'll\",\n",
       " 'the',\n",
       " 'their',\n",
       " 'theirs',\n",
       " 'them',\n",
       " 'themselves',\n",
       " 'then',\n",
       " 'there',\n",
       " 'these',\n",
       " 'they',\n",
       " \"they'd\",\n",
       " \"they'll\",\n",
       " \"they're\",\n",
       " \"they've\",\n",
       " 'this',\n",
       " 'those',\n",
       " 'through',\n",
       " 'to',\n",
       " 'too',\n",
       " 'under',\n",
       " 'until',\n",
       " 'up',\n",
       " 've',\n",
       " 'very',\n",
       " 'was',\n",
       " 'wasn',\n",
       " \"wasn't\",\n",
       " 'we',\n",
       " \"we'd\",\n",
       " \"we'll\",\n",
       " \"we're\",\n",
       " 'were',\n",
       " 'weren',\n",
       " \"weren't\",\n",
       " \"we've\",\n",
       " 'what',\n",
       " 'when',\n",
       " 'where',\n",
       " 'which',\n",
       " 'while',\n",
       " 'who',\n",
       " 'whom',\n",
       " 'why',\n",
       " 'will',\n",
       " 'with',\n",
       " 'won',\n",
       " \"won't\",\n",
       " 'wouldn',\n",
       " \"wouldn't\",\n",
       " 'y',\n",
       " 'you',\n",
       " \"you'd\",\n",
       " \"you'll\",\n",
       " 'your',\n",
       " \"you're\",\n",
       " 'yours',\n",
       " 'yourself',\n",
       " 'yourselves',\n",
       " \"you've\"]"
      ]
     },
     "execution_count": 31,
     "metadata": {},
     "output_type": "execute_result"
    }
   ],
   "source": [
    "stopwords.words('english')"
   ]
  },
  {
   "cell_type": "markdown",
   "metadata": {},
   "source": [
    "## Stemming"
   ]
  },
  {
   "cell_type": "code",
   "execution_count": null,
   "metadata": {},
   "outputs": [],
   "source": [
    "from nltk.stem import PorterStemmer, SnowballStemmer"
   ]
  },
  {
   "cell_type": "code",
   "execution_count": 33,
   "metadata": {},
   "outputs": [],
   "source": [
    "stemmer = PorterStemmer()\n",
    "snowball_stemmer = SnowballStemmer('english')"
   ]
  },
  {
   "cell_type": "code",
   "execution_count": 34,
   "metadata": {},
   "outputs": [],
   "source": [
    "from nltk.tokenize import sent_tokenize, word_tokenize"
   ]
  },
  {
   "cell_type": "code",
   "execution_count": 35,
   "metadata": {},
   "outputs": [],
   "source": [
    "sentences = sent_tokenize(paragraphs)"
   ]
  },
  {
   "cell_type": "markdown",
   "metadata": {},
   "source": [
    "## Apply stopwords, filtering and applying tokenization"
   ]
  },
  {
   "cell_type": "code",
   "execution_count": 36,
   "metadata": {},
   "outputs": [],
   "source": [
    "for i in range(len(sentences)):\n",
    "  words = word_tokenize(sentences[i])\n",
    "  words = [snowball_stemmer.stem(word) for word in words if word not in set(stopwords.words('english'))]\n",
    "  sentences[i] = ' '.join(words) # convert all words into sentences"
   ]
  },
  {
   "cell_type": "code",
   "execution_count": 37,
   "metadata": {},
   "outputs": [
    {
     "data": {
      "text/plain": [
       "['at long last , battl end !',\n",
       " 'and thus , ghana , belov countri free forev !',\n",
       " 'and yet , i want take opportun thank peopl countri ; youth , farmer , women nobli fought battl .',\n",
       " 'also , i want thank valiant ex-servic men cooper mighti task free countri foreign rule imperi .',\n",
       " 'and , i point out… , today , must chang attitud mind .',\n",
       " 'we must realis longer coloni free independ peopl .',\n",
       " 'but also , i point , also entail hard work .',\n",
       " 'that new africa readi fight battl show black man capabl manag affair .',\n",
       " 'we go demonstr world , nation , prepar lay foundat – african person .',\n",
       " 'as i said assembl minut ago , i made point go creat africa person ident .',\n",
       " 'it way show world readi battl .',\n",
       " 'but today , may i call upon , great day let us rememb noth done unless support god .',\n",
       " 'we battl reded … our independ is meaningless unless it is link up with the total liber of africa .',\n",
       " 'let us , fellow ghanaian , let us ask god ’ bless two second , thousand million .',\n",
       " 'i want ask paus one minut give thank almighti god led us difficulti , imprison , hardship suffer , brought us end troubl today .',\n",
       " 'one minut silenc .',\n",
       " 'ghana free forev !',\n",
       " 'and i ask band play ghana nation anthem .']"
      ]
     },
     "execution_count": 37,
     "metadata": {},
     "output_type": "execute_result"
    }
   ],
   "source": [
    "sentences"
   ]
  },
  {
   "cell_type": "code",
   "execution_count": 38,
   "metadata": {},
   "outputs": [],
   "source": [
    "from nltk.stem import WordNetLemmatizer"
   ]
  },
  {
   "cell_type": "code",
   "execution_count": 39,
   "metadata": {},
   "outputs": [],
   "source": [
    "lemmatizer = WordNetLemmatizer()"
   ]
  },
  {
   "cell_type": "code",
   "execution_count": 41,
   "metadata": {},
   "outputs": [],
   "source": [
    "for i in range(len(sentences)):\n",
    "  words = word_tokenize(sentences[i])\n",
    "  words = [lemmatizer.lemmatize(word) for word in words if word not in set(stopwords.words('english'))]\n",
    "  sentences[i] = ' '.join(words) # convert all words into sentences"
   ]
  },
  {
   "cell_type": "code",
   "execution_count": 42,
   "metadata": {},
   "outputs": [
    {
     "data": {
      "text/plain": [
       "['long last , battl end !',\n",
       " 'thus , ghana , belov countri free forev !',\n",
       " 'yet , want take opportun thank peopl countri ; youth , farmer , woman nobli fought battl .',\n",
       " 'also , want thank valiant ex-servic men cooper mighti task free countri foreign rule imperi .',\n",
       " ', point out… , today , must chang attitud mind .',\n",
       " 'must realis longer coloni free independ peopl .',\n",
       " 'also , point , also entail hard work .',\n",
       " 'new africa readi fight battl show black man capabl manag affair .',\n",
       " 'go demonstr world , nation , prepar lay foundat – african person .',\n",
       " 'said assembl minut ago , made point go creat africa person ident .',\n",
       " 'way show world readi battl .',\n",
       " 'today , may call upon , great day let u rememb noth done unless support god .',\n",
       " 'battl reded … independ meaningless unless link total liber africa .',\n",
       " 'let u , fellow ghanaian , let u ask god ’ bless two second , thousand million .',\n",
       " 'want ask paus one minut give thank almighti god led u difficulti , imprison , hardship suffer , brought u end troubl today .',\n",
       " 'one minut silenc .',\n",
       " 'ghana free forev !',\n",
       " 'ask band play ghana nation anthem .']"
      ]
     },
     "execution_count": 42,
     "metadata": {},
     "output_type": "execute_result"
    }
   ],
   "source": [
    "sentences"
   ]
  },
  {
   "cell_type": "code",
   "execution_count": null,
   "metadata": {},
   "outputs": [],
   "source": []
  }
 ],
 "metadata": {
  "kernelspec": {
   "display_name": ".venv",
   "language": "python",
   "name": "python3"
  },
  "language_info": {
   "codemirror_mode": {
    "name": "ipython",
    "version": 3
   },
   "file_extension": ".py",
   "mimetype": "text/x-python",
   "name": "python",
   "nbconvert_exporter": "python",
   "pygments_lexer": "ipython3",
   "version": "3.11.5"
  }
 },
 "nbformat": 4,
 "nbformat_minor": 2
}
