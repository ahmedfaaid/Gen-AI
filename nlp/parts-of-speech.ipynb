{
 "cells": [
  {
   "cell_type": "markdown",
   "metadata": {},
   "source": [
    "# Parts of Speech"
   ]
  },
  {
   "cell_type": "markdown",
   "metadata": {},
   "source": [
    "- CC coordinating conjunction \n",
    "- CD cardinal digit \n",
    "- DT determiner \n",
    "- EX existential there (like: “there is” … think of it like “there exists”) \n",
    "- FW foreign word \n",
    "- IN preposition/subordinating conjunction \n",
    "- JJ adjective – ‘big’ \n",
    "- JJR adjective, comparative – ‘bigger’ \n",
    "- JJS adjective, superlative – ‘biggest’ \n",
    "- LS list marker 1) \n",
    "- MD modal – could, will \n",
    "- NN noun, singular ‘- desk’ \n",
    "- NNS noun plural – ‘desks’ \n",
    "- NNP proper noun, singular – ‘Harrison’ \n",
    "- NNPS proper noun, plural – ‘Americans’ \n",
    "- PDT predeterminer – ‘all the kids’ \n",
    "- POS possessive ending parent’s \n",
    "- PRP personal pronoun –  I, he, she \n",
    "- PRP$ possessive pronoun – my, his, hers \n",
    "- RB adverb – very, silently, \n",
    "- RBR adverb, comparative – better \n",
    "- RBS adverb, superlative – best \n",
    "- RP particle – give up \n",
    "- TO – to go ‘to’ the store. \n",
    "- UH interjection – errrrrrrrm \n",
    "- VB verb, base form – take \n",
    "- VBD verb, past tense – took \n",
    "- VBG verb, gerund/present participle – taking \n",
    "- VBN verb, past participle – taken \n",
    "- VBP verb, sing. present, non-3d – take \n",
    "- VBZ verb, 3rd person sing. present – takes \n",
    "- WDT wh-determiner – which \n",
    "- WP wh-pronoun – who, what \n",
    "- WP$ possessive wh-pronoun, eg- whose \n",
    "- WRB wh-adverb, eg- where, when"
   ]
  },
  {
   "cell_type": "code",
   "execution_count": 1,
   "metadata": {},
   "outputs": [],
   "source": [
    "paragraphs = \"\"\"At long last, the battle has ended!  And thus, Ghana, your beloved country is free forever! And yet again, I want to take the opportunity to thank the people of this country; the youth, the farmers, the women who have so nobly fought and won the battle. Also, I want to thank the valiant ex-service men who have so cooperated with me in this mighty task of freeing our country from foreign rule and imperialism. And, as I pointed out… from now on, today, we must change our attitudes and our minds.  We must realise that from now on we are no longer a colonial but free and independent people. But also, as I pointed out, that also entails hard work.  That new Africa is ready to fight his own battles and show that after all the black man is capable of managing his own affairs. We are going to demonstrate to the world, to the other nations, that we are prepared to lay our foundation – our own African personality. As I said to the Assembly a few minutes ago, I made a point that we are going to create our own Africa personality and identity.  It is the only way we can show the world that we are ready for our own battles. But today, may I call upon you all, that on this great day that let us all remember that nothing can be done unless it has the support of God. We have won the battle and again rededicate ourselves … OUR INDEPENDENCE IS MEANINGLESS UNLESS IT IS LINKED UP WITH THE TOTAL LIBERATION OF AFRICA. Let us now, fellow Ghanaians, let us now ask for God’s blessing for only two seconds, and in your thousands and millions. I want to ask you to pause for only one minute and give thanks to Almighty God for having led us through our difficulties, imprisonments, hardships and sufferings, to have brought us to our end of troubles today. One minute silence. Ghana is free forever!  And here I will ask the band to play the Ghana National Anthem.\"\"\""
   ]
  },
  {
   "cell_type": "code",
   "execution_count": 2,
   "metadata": {},
   "outputs": [],
   "source": [
    "from nltk.tokenize import sent_tokenize, word_tokenize"
   ]
  },
  {
   "cell_type": "code",
   "execution_count": 3,
   "metadata": {},
   "outputs": [],
   "source": [
    "from nltk.corpus import stopwords"
   ]
  },
  {
   "cell_type": "code",
   "execution_count": 4,
   "metadata": {},
   "outputs": [],
   "source": [
    "from nltk.tag import pos_tag"
   ]
  },
  {
   "cell_type": "code",
   "execution_count": 5,
   "metadata": {},
   "outputs": [],
   "source": [
    "sentences = sent_tokenize(paragraphs)"
   ]
  },
  {
   "cell_type": "code",
   "execution_count": 6,
   "metadata": {},
   "outputs": [
    {
     "data": {
      "text/plain": [
       "['At long last, the battle has ended!',\n",
       " 'And thus, Ghana, your beloved country is free forever!',\n",
       " 'And yet again, I want to take the opportunity to thank the people of this country; the youth, the farmers, the women who have so nobly fought and won the battle.',\n",
       " 'Also, I want to thank the valiant ex-service men who have so cooperated with me in this mighty task of freeing our country from foreign rule and imperialism.',\n",
       " 'And, as I pointed out… from now on, today, we must change our attitudes and our minds.',\n",
       " 'We must realise that from now on we are no longer a colonial but free and independent people.',\n",
       " 'But also, as I pointed out, that also entails hard work.',\n",
       " 'That new Africa is ready to fight his own battles and show that after all the black man is capable of managing his own affairs.',\n",
       " 'We are going to demonstrate to the world, to the other nations, that we are prepared to lay our foundation – our own African personality.',\n",
       " 'As I said to the Assembly a few minutes ago, I made a point that we are going to create our own Africa personality and identity.',\n",
       " 'It is the only way we can show the world that we are ready for our own battles.',\n",
       " 'But today, may I call upon you all, that on this great day that let us all remember that nothing can be done unless it has the support of God.',\n",
       " 'We have won the battle and again rededicate ourselves … OUR INDEPENDENCE IS MEANINGLESS UNLESS IT IS LINKED UP WITH THE TOTAL LIBERATION OF AFRICA.',\n",
       " 'Let us now, fellow Ghanaians, let us now ask for God’s blessing for only two seconds, and in your thousands and millions.',\n",
       " 'I want to ask you to pause for only one minute and give thanks to Almighty God for having led us through our difficulties, imprisonments, hardships and sufferings, to have brought us to our end of troubles today.',\n",
       " 'One minute silence.',\n",
       " 'Ghana is free forever!',\n",
       " 'And here I will ask the band to play the Ghana National Anthem.']"
      ]
     },
     "execution_count": 6,
     "metadata": {},
     "output_type": "execute_result"
    }
   ],
   "source": [
    "sentences"
   ]
  },
  {
   "cell_type": "code",
   "execution_count": 7,
   "metadata": {},
   "outputs": [
    {
     "name": "stdout",
     "output_type": "stream",
     "text": [
      "[('At', 'IN'), ('long', 'RB'), ('last', 'JJ'), (',', ','), ('battle', 'NN'), ('ended', 'VBD'), ('!', '.')]\n",
      "[('And', 'CC'), ('thus', 'RB'), (',', ','), ('Ghana', 'NNP'), (',', ','), ('beloved', 'VBD'), ('country', 'NN'), ('free', 'JJ'), ('forever', 'RB'), ('!', '.')]\n",
      "[('And', 'CC'), ('yet', 'RB'), (',', ','), ('I', 'PRP'), ('want', 'VBP'), ('take', 'JJ'), ('opportunity', 'NN'), ('thank', 'NN'), ('people', 'NNS'), ('country', 'NN'), (';', ':'), ('youth', 'CC'), (',', ','), ('farmers', 'NNS'), (',', ','), ('women', 'NNS'), ('nobly', 'RB'), ('fought', 'JJ'), ('battle', 'NN'), ('.', '.')]\n",
      "[('Also', 'RB'), (',', ','), ('I', 'PRP'), ('want', 'VBP'), ('thank', 'JJ'), ('valiant', 'JJ'), ('ex-service', 'JJ'), ('men', 'NNS'), ('cooperated', 'VBD'), ('mighty', 'NN'), ('task', 'NN'), ('freeing', 'VBG'), ('country', 'NN'), ('foreign', 'JJ'), ('rule', 'NN'), ('imperialism', 'NN'), ('.', '.')]\n",
      "[('And', 'CC'), (',', ','), ('I', 'PRP'), ('pointed', 'VBD'), ('out…', 'NN'), (',', ','), ('today', 'NN'), (',', ','), ('must', 'MD'), ('change', 'VB'), ('attitudes', 'NNS'), ('minds', 'NNS'), ('.', '.')]\n",
      "[('We', 'PRP'), ('must', 'MD'), ('realise', 'VB'), ('longer', 'RBR'), ('colonial', 'JJ'), ('free', 'JJ'), ('independent', 'JJ'), ('people', 'NNS'), ('.', '.')]\n",
      "[('But', 'CC'), ('also', 'RB'), (',', ','), ('I', 'PRP'), ('pointed', 'VBD'), (',', ','), ('also', 'RB'), ('entails', 'VBZ'), ('hard', 'JJ'), ('work', 'NN'), ('.', '.')]\n",
      "[('That', 'DT'), ('new', 'JJ'), ('Africa', 'NNP'), ('ready', 'JJ'), ('fight', 'NN'), ('battles', 'VBZ'), ('show', 'VBP'), ('black', 'JJ'), ('man', 'NN'), ('capable', 'JJ'), ('managing', 'VBG'), ('affairs', 'NNS'), ('.', '.')]\n",
      "[('We', 'PRP'), ('going', 'VBG'), ('demonstrate', 'JJ'), ('world', 'NN'), (',', ','), ('nations', 'NNS'), (',', ','), ('prepared', 'VBD'), ('lay', 'JJS'), ('foundation', 'NN'), ('–', 'JJ'), ('African', 'NNP'), ('personality', 'NN'), ('.', '.')]\n",
      "[('As', 'IN'), ('I', 'PRP'), ('said', 'VBD'), ('Assembly', 'NNP'), ('minutes', 'NNS'), ('ago', 'RB'), (',', ','), ('I', 'PRP'), ('made', 'VBD'), ('point', 'NN'), ('going', 'VBG'), ('create', 'NN'), ('Africa', 'NNP'), ('personality', 'NN'), ('identity', 'NN'), ('.', '.')]\n",
      "[('It', 'PRP'), ('way', 'NN'), ('show', 'NN'), ('world', 'NN'), ('ready', 'JJ'), ('battles', 'NNS'), ('.', '.')]\n",
      "[('But', 'CC'), ('today', 'NN'), (',', ','), ('may', 'MD'), ('I', 'PRP'), ('call', 'VB'), ('upon', 'IN'), (',', ','), ('great', 'JJ'), ('day', 'NN'), ('let', 'VB'), ('us', 'PRP'), ('remember', 'VB'), ('nothing', 'NN'), ('done', 'VBN'), ('unless', 'IN'), ('support', 'NN'), ('God', 'NNP'), ('.', '.')]\n",
      "[('We', 'PRP'), ('battle', 'NN'), ('rededicate', 'VBP'), ('…', 'IN'), ('OUR', 'NNP'), ('INDEPENDENCE', 'NNP'), ('IS', 'NNP'), ('MEANINGLESS', 'NNP'), ('UNLESS', 'IN'), ('IT', 'NNP'), ('IS', 'NNP'), ('LINKED', 'NNP'), ('UP', 'IN'), ('WITH', 'NNP'), ('THE', 'NNP'), ('TOTAL', 'NNP'), ('LIBERATION', 'NNP'), ('OF', 'NNP'), ('AFRICA', 'NNP'), ('.', '.')]\n",
      "[('Let', 'VB'), ('us', 'PRP'), (',', ','), ('fellow', 'JJ'), ('Ghanaians', 'NNPS'), (',', ','), ('let', 'VB'), ('us', 'PRP'), ('ask', 'VB'), ('God', 'NNP'), ('’', 'NNP'), ('blessing', 'VBG'), ('two', 'CD'), ('seconds', 'NNS'), (',', ','), ('thousands', 'NNS'), ('millions', 'NNS'), ('.', '.')]\n",
      "[('I', 'PRP'), ('want', 'VBP'), ('ask', 'JJ'), ('pause', 'IN'), ('one', 'CD'), ('minute', 'NN'), ('give', 'JJ'), ('thanks', 'NNS'), ('Almighty', 'NNP'), ('God', 'NNP'), ('led', 'VBD'), ('us', 'PRP'), ('difficulties', 'NNS'), (',', ','), ('imprisonments', 'NNS'), (',', ','), ('hardships', 'NNS'), ('sufferings', 'NNS'), (',', ','), ('brought', 'VBD'), ('us', 'PRP'), ('end', 'NN'), ('troubles', 'NNS'), ('today', 'NN'), ('.', '.')]\n",
      "[('One', 'CD'), ('minute', 'NN'), ('silence', 'NN'), ('.', '.')]\n",
      "[('Ghana', 'NNP'), ('free', 'JJ'), ('forever', 'RB'), ('!', '.')]\n",
      "[('And', 'CC'), ('I', 'PRP'), ('ask', 'VBP'), ('band', 'JJ'), ('play', 'NN'), ('Ghana', 'NNP'), ('National', 'NNP'), ('Anthem', 'NNP'), ('.', '.')]\n"
     ]
    }
   ],
   "source": [
    "for i in range(len(sentences)):\n",
    "  words = word_tokenize(sentences[i])\n",
    "  words = [word for word in words if word not in set(stopwords.words('english'))]\n",
    "  p_tag = pos_tag(words)\n",
    "  print(p_tag)"
   ]
  },
  {
   "cell_type": "code",
   "execution_count": null,
   "metadata": {},
   "outputs": [],
   "source": []
  }
 ],
 "metadata": {
  "kernelspec": {
   "display_name": ".venv",
   "language": "python",
   "name": "python3"
  },
  "language_info": {
   "codemirror_mode": {
    "name": "ipython",
    "version": 3
   },
   "file_extension": ".py",
   "mimetype": "text/x-python",
   "name": "python",
   "nbconvert_exporter": "python",
   "pygments_lexer": "ipython3",
   "version": "3.11.5"
  }
 },
 "nbformat": 4,
 "nbformat_minor": 2
}
