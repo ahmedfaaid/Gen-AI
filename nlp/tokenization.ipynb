{
 "cells": [
  {
   "cell_type": "markdown",
   "metadata": {},
   "source": [
    "# Tokenization Example"
   ]
  },
  {
   "cell_type": "markdown",
   "metadata": {},
   "source": [
    "## Define corpus (paragraph)"
   ]
  },
  {
   "cell_type": "code",
   "execution_count": 1,
   "metadata": {},
   "outputs": [],
   "source": [
    "corpus = \"\"\"The gentle flow of the river carried whispers of ancient stories as it meandered through the lush greenery, where sunlight filtered through towering trees, casting a mosaic of light and shadow on the water. A sense of timeless beauty enveloped the scene, reminding passersby of nature's enduring charm.\"\"\""
   ]
  },
  {
   "cell_type": "markdown",
   "metadata": {},
   "source": [
    "## Tokenization"
   ]
  },
  {
   "cell_type": "code",
   "execution_count": 2,
   "metadata": {},
   "outputs": [],
   "source": [
    "from nltk.tokenize import sent_tokenize"
   ]
  },
  {
   "cell_type": "markdown",
   "metadata": {},
   "source": [
    "### Convert paragraph to sentences"
   ]
  },
  {
   "cell_type": "code",
   "execution_count": 3,
   "metadata": {},
   "outputs": [],
   "source": [
    "documents = sent_tokenize(corpus)"
   ]
  },
  {
   "cell_type": "code",
   "execution_count": 4,
   "metadata": {},
   "outputs": [
    {
     "data": {
      "text/plain": [
       "list"
      ]
     },
     "execution_count": 4,
     "metadata": {},
     "output_type": "execute_result"
    }
   ],
   "source": [
    "type(documents)"
   ]
  },
  {
   "cell_type": "code",
   "execution_count": 5,
   "metadata": {},
   "outputs": [
    {
     "name": "stdout",
     "output_type": "stream",
     "text": [
      "The gentle flow of the river carried whispers of ancient stories as it meandered through the lush greenery, where sunlight filtered through towering trees, casting a mosaic of light and shadow on the water.\n",
      "A sense of timeless beauty enveloped the scene, reminding passersby of nature's enduring charm.\n"
     ]
    }
   ],
   "source": [
    "for sentence in documents:\n",
    "  print(sentence)"
   ]
  },
  {
   "cell_type": "markdown",
   "metadata": {},
   "source": [
    "### Covert sentences into words"
   ]
  },
  {
   "cell_type": "code",
   "execution_count": 6,
   "metadata": {},
   "outputs": [],
   "source": [
    "from nltk.tokenize import word_tokenize"
   ]
  },
  {
   "cell_type": "code",
   "execution_count": 7,
   "metadata": {},
   "outputs": [
    {
     "data": {
      "text/plain": [
       "['The',\n",
       " 'gentle',\n",
       " 'flow',\n",
       " 'of',\n",
       " 'the',\n",
       " 'river',\n",
       " 'carried',\n",
       " 'whispers',\n",
       " 'of',\n",
       " 'ancient',\n",
       " 'stories',\n",
       " 'as',\n",
       " 'it',\n",
       " 'meandered',\n",
       " 'through',\n",
       " 'the',\n",
       " 'lush',\n",
       " 'greenery',\n",
       " ',',\n",
       " 'where',\n",
       " 'sunlight',\n",
       " 'filtered',\n",
       " 'through',\n",
       " 'towering',\n",
       " 'trees',\n",
       " ',',\n",
       " 'casting',\n",
       " 'a',\n",
       " 'mosaic',\n",
       " 'of',\n",
       " 'light',\n",
       " 'and',\n",
       " 'shadow',\n",
       " 'on',\n",
       " 'the',\n",
       " 'water',\n",
       " '.',\n",
       " 'A',\n",
       " 'sense',\n",
       " 'of',\n",
       " 'timeless',\n",
       " 'beauty',\n",
       " 'enveloped',\n",
       " 'the',\n",
       " 'scene',\n",
       " ',',\n",
       " 'reminding',\n",
       " 'passersby',\n",
       " 'of',\n",
       " 'nature',\n",
       " \"'s\",\n",
       " 'enduring',\n",
       " 'charm',\n",
       " '.']"
      ]
     },
     "execution_count": 7,
     "metadata": {},
     "output_type": "execute_result"
    }
   ],
   "source": [
    "word_tokenize(corpus)"
   ]
  },
  {
   "cell_type": "code",
   "execution_count": 8,
   "metadata": {},
   "outputs": [],
   "source": [
    "from nltk.tokenize import wordpunct_tokenize"
   ]
  },
  {
   "cell_type": "code",
   "execution_count": 9,
   "metadata": {},
   "outputs": [
    {
     "data": {
      "text/plain": [
       "['The',\n",
       " 'gentle',\n",
       " 'flow',\n",
       " 'of',\n",
       " 'the',\n",
       " 'river',\n",
       " 'carried',\n",
       " 'whispers',\n",
       " 'of',\n",
       " 'ancient',\n",
       " 'stories',\n",
       " 'as',\n",
       " 'it',\n",
       " 'meandered',\n",
       " 'through',\n",
       " 'the',\n",
       " 'lush',\n",
       " 'greenery',\n",
       " ',',\n",
       " 'where',\n",
       " 'sunlight',\n",
       " 'filtered',\n",
       " 'through',\n",
       " 'towering',\n",
       " 'trees',\n",
       " ',',\n",
       " 'casting',\n",
       " 'a',\n",
       " 'mosaic',\n",
       " 'of',\n",
       " 'light',\n",
       " 'and',\n",
       " 'shadow',\n",
       " 'on',\n",
       " 'the',\n",
       " 'water',\n",
       " '.',\n",
       " 'A',\n",
       " 'sense',\n",
       " 'of',\n",
       " 'timeless',\n",
       " 'beauty',\n",
       " 'enveloped',\n",
       " 'the',\n",
       " 'scene',\n",
       " ',',\n",
       " 'reminding',\n",
       " 'passersby',\n",
       " 'of',\n",
       " 'nature',\n",
       " \"'\",\n",
       " 's',\n",
       " 'enduring',\n",
       " 'charm',\n",
       " '.']"
      ]
     },
     "execution_count": 9,
     "metadata": {},
     "output_type": "execute_result"
    }
   ],
   "source": [
    "wordpunct_tokenize(corpus)"
   ]
  },
  {
   "cell_type": "code",
   "execution_count": 10,
   "metadata": {},
   "outputs": [],
   "source": [
    "from nltk.tokenize import TreebankWordTokenizer"
   ]
  },
  {
   "cell_type": "code",
   "execution_count": 11,
   "metadata": {},
   "outputs": [],
   "source": [
    "tokenizer = TreebankWordTokenizer()"
   ]
  },
  {
   "cell_type": "code",
   "execution_count": 12,
   "metadata": {},
   "outputs": [
    {
     "data": {
      "text/plain": [
       "['The',\n",
       " 'gentle',\n",
       " 'flow',\n",
       " 'of',\n",
       " 'the',\n",
       " 'river',\n",
       " 'carried',\n",
       " 'whispers',\n",
       " 'of',\n",
       " 'ancient',\n",
       " 'stories',\n",
       " 'as',\n",
       " 'it',\n",
       " 'meandered',\n",
       " 'through',\n",
       " 'the',\n",
       " 'lush',\n",
       " 'greenery',\n",
       " ',',\n",
       " 'where',\n",
       " 'sunlight',\n",
       " 'filtered',\n",
       " 'through',\n",
       " 'towering',\n",
       " 'trees',\n",
       " ',',\n",
       " 'casting',\n",
       " 'a',\n",
       " 'mosaic',\n",
       " 'of',\n",
       " 'light',\n",
       " 'and',\n",
       " 'shadow',\n",
       " 'on',\n",
       " 'the',\n",
       " 'water.',\n",
       " 'A',\n",
       " 'sense',\n",
       " 'of',\n",
       " 'timeless',\n",
       " 'beauty',\n",
       " 'enveloped',\n",
       " 'the',\n",
       " 'scene',\n",
       " ',',\n",
       " 'reminding',\n",
       " 'passersby',\n",
       " 'of',\n",
       " 'nature',\n",
       " \"'s\",\n",
       " 'enduring',\n",
       " 'charm',\n",
       " '.']"
      ]
     },
     "execution_count": 12,
     "metadata": {},
     "output_type": "execute_result"
    }
   ],
   "source": [
    "tokenizer.tokenize(corpus)"
   ]
  },
  {
   "cell_type": "code",
   "execution_count": null,
   "metadata": {},
   "outputs": [],
   "source": []
  }
 ],
 "metadata": {
  "kernelspec": {
   "display_name": ".venv",
   "language": "python",
   "name": "python3"
  },
  "language_info": {
   "codemirror_mode": {
    "name": "ipython",
    "version": 3
   },
   "file_extension": ".py",
   "mimetype": "text/x-python",
   "name": "python",
   "nbconvert_exporter": "python",
   "pygments_lexer": "ipython3",
   "version": "3.11.5"
  }
 },
 "nbformat": 4,
 "nbformat_minor": 2
}
